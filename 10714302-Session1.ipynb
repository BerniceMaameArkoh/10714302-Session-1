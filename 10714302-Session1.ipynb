{
 "cells": [
  {
   "cell_type": "markdown",
   "metadata": {},
   "source": [
    "# CSCD 319 - COMPUTER VISION"
   ]
  },
  {
   "cell_type": "markdown",
   "metadata": {},
   "source": [
    "### ASSIGNMENT 1 - 5 marks\n",
    "\n",
    "All codes should be written in Python 3.x\n",
    "\n",
    "**SUBMISSION DEADLINE:** FRIDAY, APRIL 23rd, 2021."
   ]
  },
  {
   "cell_type": "markdown",
   "metadata": {},
   "source": [
    "##### QUESTION 1\n",
    "Write a program to display the square root of even numbers between 1 and 50"
   ]
  },
  {
   "cell_type": "code",
   "execution_count": 1,
   "metadata": {},
   "outputs": [
    {
     "name": "stdout",
     "output_type": "stream",
     "text": [
      "2 = 1.4142135623730951\n",
      "4 = 2.0\n",
      "6 = 2.449489742783178\n",
      "8 = 2.8284271247461903\n",
      "10 = 3.1622776601683795\n",
      "12 = 3.4641016151377544\n",
      "14 = 3.7416573867739413\n",
      "16 = 4.0\n",
      "18 = 4.242640687119285\n",
      "20 = 4.47213595499958\n",
      "22 = 4.69041575982343\n",
      "24 = 4.898979485566356\n",
      "26 = 5.0990195135927845\n",
      "28 = 5.291502622129181\n",
      "30 = 5.477225575051661\n",
      "32 = 5.656854249492381\n",
      "34 = 5.830951894845301\n",
      "36 = 6.0\n",
      "38 = 6.164414002968976\n",
      "40 = 6.324555320336759\n",
      "42 = 6.48074069840786\n",
      "44 = 6.6332495807108\n",
      "46 = 6.782329983125268\n",
      "48 = 6.928203230275509\n"
     ]
    }
   ],
   "source": [
    "import math\n",
    "for x in range(1,50):\n",
    "    #Check if x is even\n",
    "    if x % 2 == 0:\n",
    "        square_root = math.sqrt(x)\n",
    "        print(f'{x} = {square_root}')\n",
    "        "
   ]
  },
  {
   "cell_type": "markdown",
   "metadata": {},
   "source": [
    "##### QUESTION 2\n",
    "\n",
    "Write a program to generate an array of 10 random whole numbers with the lower limit and the upper limit coming from a user input.\\\n",
    "This means that a user would define the lower boundary of the array as well as the upper boundary by providing an input for both values.\\\n",
    "And then you generate an array/list of random numbers that falls within the given user input.\n",
    "\n",
    "**Hint:** You may use the random method imported to help you generate the numbers. "
   ]
  },
  {
   "cell_type": "code",
   "execution_count": 2,
   "metadata": {},
   "outputs": [],
   "source": [
    "import random\n",
    "\n",
    "def random_numbers():\n",
    "  array = []\n",
    "    \n",
    "  lower_no = int(input(\"Enter lower boundary : \"))\n",
    "  upper_no = int(input(\"Enter upper boundary : \"))\n",
    "  \n",
    "  if (upper_no > lower_no):\n",
    "    for j in range(10):\n",
    "      array.append(random.randint(lower_no, upper_no))\n",
    "  else:\n",
    "      print(\"Lower boundary cannot be greater than upper boundary\")\n",
    "        \n",
    "   \n",
    "\n",
    "  return array\n"
   ]
  },
  {
   "cell_type": "code",
   "execution_count": 3,
   "metadata": {},
   "outputs": [
    {
     "name": "stdout",
     "output_type": "stream",
     "text": [
      "Enter lower boundary : 14\n",
      "Enter upper boundary : 30\n"
     ]
    },
    {
     "data": {
      "text/plain": [
       "[21, 20, 22, 30, 20, 29, 23, 19, 21, 20]"
      ]
     },
     "execution_count": 3,
     "metadata": {},
     "output_type": "execute_result"
    }
   ],
   "source": [
    "new_array = random_numbers()\n",
    "new_array"
   ]
  },
  {
   "cell_type": "markdown",
   "metadata": {},
   "source": [
    "##### QUESTION 3\n",
    "\n",
    "Write a function that takes the array generated above in Question 2 as an argument and perform both the addition and multiplication operations on the array.\\\n",
    "Print out the results of each operation."
   ]
  },
  {
   "cell_type": "code",
   "execution_count": 4,
   "metadata": {},
   "outputs": [],
   "source": [
    "#Using numpy\n",
    "import numpy as np\n",
    "def add_mul(array):\n",
    "    \n",
    "    add_array = np.sum(array)\n",
    "    sum = add_array\n",
    "    print (f'Sum = {sum}')\n",
    "    \n",
    "    mul_array = np.prod(array)\n",
    "    product = mul_array\n",
    "    print (f'Product = {product}')"
   ]
  },
  {
   "cell_type": "code",
   "execution_count": 5,
   "metadata": {},
   "outputs": [
    {
     "name": "stdout",
     "output_type": "stream",
     "text": [
      "Sum = 225\n",
      "Product = -1893250816\n"
     ]
    }
   ],
   "source": [
    "add_mul(new_array)"
   ]
  },
  {
   "cell_type": "markdown",
   "metadata": {},
   "source": [
    "##### QUESTION 4\n",
    "Let us practise with the popular Collatz sequence.\n",
    "\n",
    "Write a function named collatz() that has one parameter named number. If \n",
    "number is even, then collatz() should print number // 2 and return the resulting value.\\\n",
    "If number is odd, then collatz() should print and return (3 * number + 1).\n",
    "\n",
    "Then write a program that lets the user type in an integer and that keeps \n",
    "calling collatz() on that number until the function returns the value 1. "
   ]
  },
  {
   "cell_type": "code",
   "execution_count": 6,
   "metadata": {},
   "outputs": [],
   "source": [
    "def collatz(number):\n",
    "    \n",
    "    if number % 2 == 0:\n",
    "        result = number // 2\n",
    "        print (number // 2)\n",
    "        return number // 2\n",
    "        \n",
    "    elif (number % 2 != 0):\n",
    "        result = 3 * number + 1\n",
    "        print (result)\n",
    "        return result "
   ]
  },
  {
   "cell_type": "code",
   "execution_count": 7,
   "metadata": {},
   "outputs": [
    {
     "name": "stdout",
     "output_type": "stream",
     "text": [
      "Input a number: 6\n"
     ]
    }
   ],
   "source": [
    "a = int(input(\"Input a number: \"))"
   ]
  },
  {
   "cell_type": "code",
   "execution_count": 8,
   "metadata": {},
   "outputs": [
    {
     "name": "stdout",
     "output_type": "stream",
     "text": [
      "3\n",
      "10\n",
      "5\n",
      "16\n",
      "8\n",
      "4\n",
      "2\n",
      "1\n"
     ]
    }
   ],
   "source": [
    "while (a != 1):\n",
    "    a = collatz(a)"
   ]
  }
 ],
 "metadata": {
  "kernelspec": {
   "display_name": "Python 3",
   "language": "python",
   "name": "python3"
  },
  "language_info": {
   "codemirror_mode": {
    "name": "ipython",
    "version": 3
   },
   "file_extension": ".py",
   "mimetype": "text/x-python",
   "name": "python",
   "nbconvert_exporter": "python",
   "pygments_lexer": "ipython3",
   "version": "3.7.4"
  }
 },
 "nbformat": 4,
 "nbformat_minor": 5
}
